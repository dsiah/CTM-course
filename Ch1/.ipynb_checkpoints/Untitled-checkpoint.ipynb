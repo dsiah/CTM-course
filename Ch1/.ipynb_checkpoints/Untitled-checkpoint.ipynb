{
 "cells": [
  {
   "cell_type": "code",
   "execution_count": 3,
   "metadata": {
    "collapsed": false
   },
   "outputs": [
    {
     "ename": "ImportError",
     "evalue": "No module named matplotlib",
     "output_type": "error",
     "traceback": [
      "\u001b[0;31m---------------------------------------------------------------------------\u001b[0m",
      "\u001b[0;31mImportError\u001b[0m                               Traceback (most recent call last)",
      "\u001b[0;32m<ipython-input-3-1b8d66aba646>\u001b[0m in \u001b[0;36m<module>\u001b[0;34m()\u001b[0m\n\u001b[1;32m      1\u001b[0m \u001b[0;31m# David Siah -- Chapter 1 Tasks and Questions\u001b[0m\u001b[0;34m\u001b[0m\u001b[0;34m\u001b[0m\u001b[0m\n\u001b[0;32m----> 2\u001b[0;31m \u001b[0;32mimport\u001b[0m \u001b[0mmatplotlib\u001b[0m\u001b[0;34m\u001b[0m\u001b[0m\n\u001b[0m\u001b[1;32m      3\u001b[0m \u001b[0;32mimport\u001b[0m \u001b[0mnumpy\u001b[0m \u001b[0;32mas\u001b[0m \u001b[0mnp\u001b[0m\u001b[0;34m\u001b[0m\u001b[0m\n\u001b[1;32m      4\u001b[0m \u001b[0;32mimport\u001b[0m \u001b[0mmatplotlib\u001b[0m\u001b[0;34m.\u001b[0m\u001b[0mpyplot\u001b[0m \u001b[0;32mas\u001b[0m \u001b[0mplt\u001b[0m\u001b[0;34m\u001b[0m\u001b[0m\n\u001b[1;32m      5\u001b[0m \u001b[0mget_ipython\u001b[0m\u001b[0;34m(\u001b[0m\u001b[0;34m)\u001b[0m\u001b[0;34m.\u001b[0m\u001b[0mmagic\u001b[0m\u001b[0;34m(\u001b[0m\u001b[0;34mu'matplotlib inline'\u001b[0m\u001b[0;34m)\u001b[0m\u001b[0;34m\u001b[0m\u001b[0m\n",
      "\u001b[0;31mImportError\u001b[0m: No module named matplotlib"
     ]
    }
   ],
   "source": [
    "# David Siah -- Chapter 1 Tasks and Questions\n",
    "import matplotlib\n",
    "import numpy as np\n",
    "import matplotlib.pyplot as plt\n",
    "%matplotlib inline  \n",
    "import matplotlib.pyplot as plt\n",
    "import image as img\n",
    "from plotting import plot\n",
    "\n",
    "S = set([2+2j, 3+2j, 1.75+1j, 2+1j, 2.25+1j, 2.5+1j, 2.75+1j, \n",
    "         3+1j, 3.25+1j])\n",
    "\n",
    "def plus_chart(s):\n",
    "    for i in s:\n",
    "        for j in s:\n",
    "            print((i+j) % len(s))\n",
    "        print()\n",
    "\n",
    "def mult_chart(s):\n",
    "    for i in s:\n",
    "        for j in s:\n",
    "            print((i*j) % len(s))\n",
    "        print()\n",
    "\n",
    "\n",
    "for i in range(2, 8):\n",
    "    b = i - 2\n",
    "    print(\"\\n\" + \"=\"*b + \" + \" + \"=\"*b)\n",
    "    plus_chart({x for x in range(i)})\n",
    "    print(\"\\n\" + \"=\"*b + \" * \" + \"=\"*b)\n",
    "    mult_chart({x for x in range(i)})\n",
    "\n",
    "\n",
    "def myplot(numset):\n",
    "    X = [x.real for x in numset]\n",
    "    Y = [x.imag for x in numset]\n",
    "    plt.scatter(X,Y, color='red')\n",
    "    plt.show()\n",
    "\n",
    "face       = img.file2image('img01.png')\n",
    "height     = len(face)\n",
    "width      = len(face[0])\n",
    "\n",
    "complixels = [(width - x) + (height - y) * 1j for y, row in enumerate(face) \n",
    "              for x, tup in enumerate(row) if tup[0] < (127.5)]\n",
    "rot90 = [num * 1j for num in complixels]\n",
    "center = [num - (width / 2) - ((height / 2) * 1j) for num in complixels]\n",
    "\n",
    "myplot(complixels)\n",
    "myplot(rot90)\n",
    "myplot(center)"
   ]
  },
  {
   "cell_type": "code",
   "execution_count": null,
   "metadata": {
    "collapsed": true
   },
   "outputs": [],
   "source": []
  }
 ],
 "metadata": {
  "kernelspec": {
   "display_name": "Python 2",
   "language": "python",
   "name": "python2"
  },
  "language_info": {
   "codemirror_mode": {
    "name": "ipython",
    "version": 2
   },
   "file_extension": ".py",
   "mimetype": "text/x-python",
   "name": "python",
   "nbconvert_exporter": "python",
   "pygments_lexer": "ipython2",
   "version": "2.7.10"
  }
 },
 "nbformat": 4,
 "nbformat_minor": 0
}
